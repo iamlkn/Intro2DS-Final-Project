{
 "cells": [
  {
   "cell_type": "markdown",
   "id": "1bdea6cb-dc6e-4daf-865d-b086db9958a9",
   "metadata": {},
   "source": [
    "## 1. Import libraries"
   ]
  },
  {
   "cell_type": "code",
   "execution_count": 2,
   "id": "16adc0ac-6840-49c6-a4ed-9abe8912cdec",
   "metadata": {},
   "outputs": [],
   "source": [
    "import numpy as np\n",
    "import seaborn as sns\n",
    "import matplotlib.pyplot as plt\n",
    "import numpy as np\n",
    "import scipy as sp\n",
    "import sklearn\n",
    "import pandas as pd\n",
    "import requests\n",
    "from bs4 import BeautifulSoup\n",
    "import pickle\n",
    "import os\n",
    "os.environ['KMP_DUPLICATE_LIB_OK'] = 'True'"
   ]
  },
  {
   "cell_type": "markdown",
   "id": "3a7a55cb-42f3-48e7-8282-aa9eacebac58",
   "metadata": {},
   "source": [
    "## 2. Data collection"
   ]
  },
  {
   "cell_type": "code",
   "execution_count": 97,
   "id": "5842dd9c-760f-4664-ba10-cc8f3342cfd0",
   "metadata": {},
   "outputs": [],
   "source": [
    "# define url\n",
    "url = 'https://en.wikipedia.org/wiki/Passengers_of_the_Titanic'\n",
    "response = requests.get(url)\n",
    "\n",
    "# define the attributes for data\n",
    "Name = []\n",
    "Age = []\n",
    "Hometown = []\n",
    "Boarded = []\n",
    "Destination = []\n",
    "Lifeboat = []\n",
    "Class = []\n",
    "Survive = []\n",
    "\n",
    "# check if the url is ok or not\n",
    "if (response.status_code != 200):\n",
    "    print('Error')\n",
    "else:\n",
    "    url_data = response.text\n",
    "    soup = BeautifulSoup(url_data, 'html.parser')\n",
    "\n",
    "    # find tags data\n",
    "    passenger_tags = soup.find_all('table', {'class':'wikitable sortable'})\n",
    "    clss = 0\n",
    "    span_cnt = np.full(6, 0, dtype = int)\n",
    "    # each passenger_tag is passengers with each class\n",
    "    for passenger_tag in passenger_tags:\n",
    "        tr_tags = passenger_tag.find_all('tr')\n",
    "        \n",
    "        clss += 1\n",
    "        check = np.full(6, True, dtype = bool)\n",
    "        cnt = 0\n",
    "        for tr_tag in tr_tags:\n",
    "            # each tr_tag is a passenger data\n",
    "            td_tags = tr_tag.find_all('td')\n",
    "            \n",
    "            if not td_tags:\n",
    "                continue\n",
    "\n",
    "            if tr_tag.get('style'):\n",
    "                Survive.append(1)\n",
    "            else:\n",
    "                Survive.append(0)\n",
    "\n",
    "            # each td_tag is a passenger attributes\n",
    "            i = 0\n",
    "            cnt += 1\n",
    "            for td_tag in td_tags:\n",
    "                \n",
    "                row = int(td_tag.get('rowspan')) if td_tag.get('rowspan') else 1\n",
    "\n",
    "                while i < 6 and check[i] == False:\n",
    "                    span_cnt[i] -= 1\n",
    "                    if span_cnt[i] == 0:\n",
    "                        check[i] = True\n",
    "                    i += 1\n",
    "\n",
    "                \n",
    "                if i >= 6:\n",
    "                    break\n",
    "                \n",
    "                if check[i] == True:\n",
    "                    span_cnt[i] += row-1\n",
    "                    if span_cnt[i] > 0:\n",
    "                        check[i] = False\n",
    "                    \n",
    "                    if i == 0:\n",
    "                        Class.append(clss)\n",
    "                        while row > 0:\n",
    "                            Name.append(td_tag.text) if td_tag else Name.append(np.nan)\n",
    "                            row -= 1\n",
    "                    elif i == 1:\n",
    "                        while row > 0:\n",
    "                            Age.append(td_tag.text) if td_tag else Age.append(np.nan)\n",
    "                            row -= 1\n",
    "                    elif i == 2:\n",
    "                        while row > 0:\n",
    "                            Hometown.append(td_tag.text) if td_tag else Hometown.append(np.nan)\n",
    "                            row -= 1\n",
    "                    elif i == 3:\n",
    "                        while row > 0:\n",
    "                            Boarded.append(td_tag.text) if td_tag else Boarded.append(np.nan)\n",
    "                            row -= 1\n",
    "                    elif i == 4:\n",
    "                        while row > 0:\n",
    "                            Destination.append(td_tag.text) if td_tag else Destination.append(np.nan)\n",
    "                            row -= 1      \n",
    "                    elif i == 5:\n",
    "                        while row > 0:\n",
    "                            Lifeboat.append(td_tag.text) if td_tag else Lifeboat.append(np.nan)\n",
    "                            row -= 1\n",
    "                    i+=1\n",
    "            \n",
    "            while i < 6 and check[i] == False:\n",
    "                    span_cnt[i] -= 1\n",
    "                    if span_cnt[i] == 0:\n",
    "                        check[i] = True\n",
    "                    i += 1\n",
    "\n",
    "raw_df = pd.DataFrame({'Name':Name,\n",
    "                       'Age': Age,\n",
    "                       'Hometown': Hometown,\n",
    "                       'Boarded': Boarded,\n",
    "                       'Destination': Destination,\n",
    "                       'Lifeboat': Lifeboat,\n",
    "                       'Class': Class,\n",
    "                       'Survive': Survive})\n",
    "\n",
    "# export raw data as raw_data.csv\n",
    "raw_df.to_csv('./data/raw_data.csv', index = False)"
   ]
  },
  {
   "cell_type": "markdown",
   "id": "f149dbda-34bb-45a7-bda9-7b326bb1bc1d",
   "metadata": {},
   "source": [
    "## 3. Data cleaning"
   ]
  },
  {
   "cell_type": "code",
   "execution_count": 60,
   "id": "35037cf2-c8b0-40c2-b4cd-46598a086fa3",
   "metadata": {},
   "outputs": [
    {
     "data": {
      "text/html": [
       "<div>\n",
       "<style scoped>\n",
       "    .dataframe tbody tr th:only-of-type {\n",
       "        vertical-align: middle;\n",
       "    }\n",
       "\n",
       "    .dataframe tbody tr th {\n",
       "        vertical-align: top;\n",
       "    }\n",
       "\n",
       "    .dataframe thead th {\n",
       "        text-align: right;\n",
       "    }\n",
       "</style>\n",
       "<table border=\"1\" class=\"dataframe\">\n",
       "  <thead>\n",
       "    <tr style=\"text-align: right;\">\n",
       "      <th></th>\n",
       "      <th>Name</th>\n",
       "      <th>Age</th>\n",
       "      <th>Hometown</th>\n",
       "      <th>Boarded</th>\n",
       "      <th>Destination</th>\n",
       "      <th>Lifeboat</th>\n",
       "      <th>Class</th>\n",
       "      <th>Survive</th>\n",
       "    </tr>\n",
       "  </thead>\n",
       "  <tbody>\n",
       "    <tr>\n",
       "      <th>0</th>\n",
       "      <td>Allen, Miss Elizabeth Walton</td>\n",
       "      <td>29</td>\n",
       "      <td>St Louis, Missouri, US</td>\n",
       "      <td>Southampton</td>\n",
       "      <td>St Louis</td>\n",
       "      <td>\\n</td>\n",
       "      <td>1</td>\n",
       "      <td>1</td>\n",
       "    </tr>\n",
       "    <tr>\n",
       "      <th>1</th>\n",
       "      <td>Allison, Mr. Hudson Creighton</td>\n",
       "      <td>30</td>\n",
       "      <td>Montreal, Quebec, Canada</td>\n",
       "      <td>Southampton</td>\n",
       "      <td>Montreal, Quebec, Canada</td>\n",
       "      <td>NaN</td>\n",
       "      <td>1</td>\n",
       "      <td>0</td>\n",
       "    </tr>\n",
       "    <tr>\n",
       "      <th>2</th>\n",
       "      <td>and chauffeur, Mr. George Swane[71]</td>\n",
       "      <td>19</td>\n",
       "      <td>NaN</td>\n",
       "      <td>Southampton</td>\n",
       "      <td>Montreal, Quebec, Canada</td>\n",
       "      <td>NaN</td>\n",
       "      <td>1</td>\n",
       "      <td>0</td>\n",
       "    </tr>\n",
       "    <tr>\n",
       "      <th>3</th>\n",
       "      <td>and cook, Miss Amelia Mary \"Mildred\" Brown[71]</td>\n",
       "      <td>18</td>\n",
       "      <td>London, England, UK</td>\n",
       "      <td>Southampton</td>\n",
       "      <td>Montreal, Quebec, Canada</td>\n",
       "      <td>11</td>\n",
       "      <td>1</td>\n",
       "      <td>1</td>\n",
       "    </tr>\n",
       "    <tr>\n",
       "      <th>4</th>\n",
       "      <td>Allison, Mrs. Bessie Waldo (née Daniels)</td>\n",
       "      <td>25</td>\n",
       "      <td>Montreal, Quebec, Canada</td>\n",
       "      <td>Southampton</td>\n",
       "      <td>Montreal, Quebec, Canada</td>\n",
       "      <td>NaN</td>\n",
       "      <td>1</td>\n",
       "      <td>0</td>\n",
       "    </tr>\n",
       "  </tbody>\n",
       "</table>\n",
       "</div>"
      ],
      "text/plain": [
       "                                             Name Age  \\\n",
       "0                    Allen, Miss Elizabeth Walton  29   \n",
       "1                   Allison, Mr. Hudson Creighton  30   \n",
       "2             and chauffeur, Mr. George Swane[71]  19   \n",
       "3  and cook, Miss Amelia Mary \"Mildred\" Brown[71]  18   \n",
       "4        Allison, Mrs. Bessie Waldo (née Daniels)  25   \n",
       "\n",
       "                   Hometown      Boarded               Destination Lifeboat  \\\n",
       "0    St Louis, Missouri, US  Southampton                  St Louis       \\n   \n",
       "1  Montreal, Quebec, Canada  Southampton  Montreal, Quebec, Canada      NaN   \n",
       "2                       NaN  Southampton  Montreal, Quebec, Canada      NaN   \n",
       "3       London, England, UK  Southampton  Montreal, Quebec, Canada       11   \n",
       "4  Montreal, Quebec, Canada  Southampton  Montreal, Quebec, Canada      NaN   \n",
       "\n",
       "   Class  Survive  \n",
       "0      1        1  \n",
       "1      1        0  \n",
       "2      1        0  \n",
       "3      1        1  \n",
       "4      1        0  "
      ]
     },
     "execution_count": 60,
     "metadata": {},
     "output_type": "execute_result"
    }
   ],
   "source": [
    "# read data\n",
    "df = pd.read_csv('./data/raw_data.csv')\n",
    "\n",
    "# make a deep copy of df_val\n",
    "df_cp = pickle.loads(pickle.dumps(df))\n",
    "df_cp.head()"
   ]
  },
  {
   "cell_type": "markdown",
   "id": "7a9c3dfd-4833-4d15-8adc-c1a3d02cb859",
   "metadata": {},
   "source": [
    "Let's get to know our data:\n",
    "\n",
    "* **Name**: the name of the passenger.\n",
    "* **Age**: the age of the passenger.\n",
    "* **Hometown**: the hometown of the passenger.\n",
    "* **Boarded**: the place where passenger get on the ship.\n",
    "* **Destination**: the place where passenger want to go.\n",
    "* **Lifeboat**: the lifeboat that the passenger get on.\n",
    "* **Class**: the class of the passenger.\n",
    "* **Survive**: whether they survive or not."
   ]
  },
  {
   "cell_type": "code",
   "execution_count": 61,
   "id": "2bde455b-0a4c-43a5-9bd5-ad3218cd2780",
   "metadata": {},
   "outputs": [
    {
     "name": "stdout",
     "output_type": "stream",
     "text": [
      "<class 'pandas.core.frame.DataFrame'>\n",
      "RangeIndex: 1312 entries, 0 to 1311\n",
      "Data columns (total 8 columns):\n",
      " #   Column       Non-Null Count  Dtype \n",
      "---  ------       --------------  ----- \n",
      " 0   Name         1312 non-null   object\n",
      " 1   Age          1312 non-null   object\n",
      " 2   Hometown     1311 non-null   object\n",
      " 3   Boarded      1309 non-null   object\n",
      " 4   Destination  1312 non-null   object\n",
      " 5   Lifeboat     1034 non-null   object\n",
      " 6   Class        1312 non-null   int64 \n",
      " 7   Survive      1312 non-null   int64 \n",
      "dtypes: int64(2), object(6)\n",
      "memory usage: 82.1+ KB\n"
     ]
    }
   ],
   "source": [
    "df_cp.info()"
   ]
  },
  {
   "cell_type": "markdown",
   "id": "2bf2bdcb-6ed7-4bcc-9e2e-76271d635863",
   "metadata": {},
   "source": [
    "As we can see, there are missing values in **'Hometown'**, **'Boarded'**, and **'Lifeboat'** columns. And **'Age'** must be integers typ instead of object. So we might change it into integers."
   ]
  },
  {
   "cell_type": "code",
   "execution_count": 62,
   "id": "7dea1a8b-6a9b-4946-aeae-febb11a88c49",
   "metadata": {},
   "outputs": [
    {
     "name": "stdout",
     "output_type": "stream",
     "text": [
      "<class 'pandas.core.frame.DataFrame'>\n",
      "RangeIndex: 1312 entries, 0 to 1311\n",
      "Data columns (total 8 columns):\n",
      " #   Column       Non-Null Count  Dtype \n",
      "---  ------       --------------  ----- \n",
      " 0   Name         1312 non-null   object\n",
      " 1   Age          1300 non-null   Int64 \n",
      " 2   Hometown     1311 non-null   object\n",
      " 3   Boarded      1309 non-null   object\n",
      " 4   Destination  1312 non-null   object\n",
      " 5   Lifeboat     1034 non-null   object\n",
      " 6   Class        1312 non-null   int64 \n",
      " 7   Survive      1312 non-null   int64 \n",
      "dtypes: Int64(1), int64(2), object(5)\n",
      "memory usage: 83.4+ KB\n"
     ]
    }
   ],
   "source": [
    "df_cp['Age'] = pd.to_numeric(df_cp['Age'], errors = 'coerce').astype('Int64')\n",
    "df_cp.info()"
   ]
  },
  {
   "cell_type": "markdown",
   "id": "227342e2-bf1e-4edb-9ea5-b8be1166642c",
   "metadata": {},
   "source": [
    "After converting to type integers, there are 12 missing values because these values cannot be converted into integers properly. There are only *12/1312 = 0.91%* in the data, so we can eliminate those **NULL values** by dropping rows contain **NULL values**."
   ]
  },
  {
   "cell_type": "code",
   "execution_count": 63,
   "id": "3233893d-abc9-4101-89d9-7fd19ef95a7b",
   "metadata": {},
   "outputs": [
    {
     "data": {
      "text/plain": [
       "Name             0\n",
       "Age              0\n",
       "Hometown         1\n",
       "Boarded          3\n",
       "Destination      0\n",
       "Lifeboat       278\n",
       "Class            0\n",
       "Survive          0\n",
       "dtype: int64"
      ]
     },
     "execution_count": 63,
     "metadata": {},
     "output_type": "execute_result"
    }
   ],
   "source": [
    "df_cp.dropna(subset = ['Age'], inplace = True)\n",
    "df_cp.isnull().sum()"
   ]
  },
  {
   "cell_type": "markdown",
   "id": "336346b5-3a11-4855-9924-69c953d85844",
   "metadata": {},
   "source": [
    "**'Lifeboat'** have 278 missing values, but for lifeboat we might only consider that the passenger is on a lifeboat or not. The number or letter that signed on the lifeboat is not so important. So the missing values mean that the passengers do not have lifeboat. We will convert the values of **'Lifeboat'** columns to **0** and **1**.\n",
    "* **1**: had lifeboat.\n",
    "* **0**: did not have lifeboat."
   ]
  },
  {
   "cell_type": "code",
   "execution_count": 68,
   "id": "8b6500de-ef81-4270-81fc-7d08e1b6a78d",
   "metadata": {},
   "outputs": [
    {
     "data": {
      "text/plain": [
       "Name           0\n",
       "Age            0\n",
       "Hometown       1\n",
       "Boarded        3\n",
       "Destination    0\n",
       "Lifeboat       0\n",
       "Class          0\n",
       "Survive        0\n",
       "dtype: int64"
      ]
     },
     "execution_count": 68,
     "metadata": {},
     "output_type": "execute_result"
    }
   ],
   "source": [
    "df_cp.loc[df_cp['Lifeboat'].notna(), 'Lifeboat'] = 1\n",
    "df_cp['Lifeboat'] = df_cp['Lifeboat'].fillna(0)\n",
    "df_cp['Lifeboat'] = df_cp['Lifeboat'].astype('Int64')\n",
    "df_cp.isnull().sum()"
   ]
  },
  {
   "cell_type": "markdown",
   "id": "6348f2c7-51a1-4fe3-9f1d-d1b44d177f2d",
   "metadata": {},
   "source": [
    "Just like the previous column, there are only 4 missing values so we could eliminate them easily by dropping these rows."
   ]
  },
  {
   "cell_type": "code",
   "execution_count": 72,
   "id": "13e80ee3-8a56-434b-b9fe-078030044573",
   "metadata": {},
   "outputs": [
    {
     "data": {
      "text/plain": [
       "Name           0\n",
       "Age            0\n",
       "Hometown       0\n",
       "Boarded        0\n",
       "Destination    0\n",
       "Lifeboat       0\n",
       "Class          0\n",
       "Survive        0\n",
       "dtype: int64"
      ]
     },
     "execution_count": 72,
     "metadata": {},
     "output_type": "execute_result"
    }
   ],
   "source": [
    "df_cp.dropna(subset = ['Hometown', 'Boarded'], inplace = True)\n",
    "df_cp.isnull().sum()"
   ]
  },
  {
   "cell_type": "code",
   "execution_count": 77,
   "id": "6bacce27-c12b-4690-af0c-783f13816e4b",
   "metadata": {},
   "outputs": [
    {
     "data": {
      "text/html": [
       "<div>\n",
       "<style scoped>\n",
       "    .dataframe tbody tr th:only-of-type {\n",
       "        vertical-align: middle;\n",
       "    }\n",
       "\n",
       "    .dataframe tbody tr th {\n",
       "        vertical-align: top;\n",
       "    }\n",
       "\n",
       "    .dataframe thead th {\n",
       "        text-align: right;\n",
       "    }\n",
       "</style>\n",
       "<table border=\"1\" class=\"dataframe\">\n",
       "  <thead>\n",
       "    <tr style=\"text-align: right;\">\n",
       "      <th></th>\n",
       "      <th>Age</th>\n",
       "      <th>Lifeboat</th>\n",
       "      <th>Class</th>\n",
       "      <th>Survive</th>\n",
       "    </tr>\n",
       "  </thead>\n",
       "  <tbody>\n",
       "    <tr>\n",
       "      <th>count</th>\n",
       "      <td>1296.0</td>\n",
       "      <td>1296.0</td>\n",
       "      <td>1296.000000</td>\n",
       "      <td>1296.000000</td>\n",
       "    </tr>\n",
       "    <tr>\n",
       "      <th>mean</th>\n",
       "      <td>29.64429</td>\n",
       "      <td>0.787809</td>\n",
       "      <td>2.290123</td>\n",
       "      <td>0.378858</td>\n",
       "    </tr>\n",
       "    <tr>\n",
       "      <th>std</th>\n",
       "      <td>13.538306</td>\n",
       "      <td>0.409017</td>\n",
       "      <td>0.840534</td>\n",
       "      <td>0.485290</td>\n",
       "    </tr>\n",
       "    <tr>\n",
       "      <th>min</th>\n",
       "      <td>1.0</td>\n",
       "      <td>0.0</td>\n",
       "      <td>1.000000</td>\n",
       "      <td>0.000000</td>\n",
       "    </tr>\n",
       "    <tr>\n",
       "      <th>25%</th>\n",
       "      <td>21.0</td>\n",
       "      <td>1.0</td>\n",
       "      <td>1.750000</td>\n",
       "      <td>0.000000</td>\n",
       "    </tr>\n",
       "    <tr>\n",
       "      <th>50%</th>\n",
       "      <td>28.0</td>\n",
       "      <td>1.0</td>\n",
       "      <td>3.000000</td>\n",
       "      <td>0.000000</td>\n",
       "    </tr>\n",
       "    <tr>\n",
       "      <th>75%</th>\n",
       "      <td>37.25</td>\n",
       "      <td>1.0</td>\n",
       "      <td>3.000000</td>\n",
       "      <td>1.000000</td>\n",
       "    </tr>\n",
       "    <tr>\n",
       "      <th>max</th>\n",
       "      <td>74.0</td>\n",
       "      <td>1.0</td>\n",
       "      <td>3.000000</td>\n",
       "      <td>1.000000</td>\n",
       "    </tr>\n",
       "  </tbody>\n",
       "</table>\n",
       "</div>"
      ],
      "text/plain": [
       "             Age  Lifeboat        Class      Survive\n",
       "count     1296.0    1296.0  1296.000000  1296.000000\n",
       "mean    29.64429  0.787809     2.290123     0.378858\n",
       "std    13.538306  0.409017     0.840534     0.485290\n",
       "min          1.0       0.0     1.000000     0.000000\n",
       "25%         21.0       1.0     1.750000     0.000000\n",
       "50%         28.0       1.0     3.000000     0.000000\n",
       "75%        37.25       1.0     3.000000     1.000000\n",
       "max         74.0       1.0     3.000000     1.000000"
      ]
     },
     "execution_count": 77,
     "metadata": {},
     "output_type": "execute_result"
    }
   ],
   "source": [
    "df_cp.describe()"
   ]
  },
  {
   "cell_type": "markdown",
   "id": "f6366d62-e808-48b2-8dfd-ed31514e6706",
   "metadata": {},
   "source": [
    "We check all the numeric value columns so that if they have outliers. But in this situation, there might not be any outliers in these columns.\n",
    "\n",
    "So let's take a look on these columns to check if we could do some feature engineerings.\n",
    "\n",
    "At the **'Name'** column, we can see that the title **'Miss'**, **'Mr'**, **'Master'**, ... may be at **'Master'** level, they might have a higher a chance of surviving. So we will create a new columns called **'Title'** to contain these values."
   ]
  },
  {
   "cell_type": "code",
   "execution_count": null,
   "id": "d372f9df-b76b-4786-a037-d8613c728e01",
   "metadata": {},
   "outputs": [],
   "source": []
  }
 ],
 "metadata": {
  "kernelspec": {
   "display_name": "Python 3 (ipykernel)",
   "language": "python",
   "name": "python3"
  },
  "language_info": {
   "codemirror_mode": {
    "name": "ipython",
    "version": 3
   },
   "file_extension": ".py",
   "mimetype": "text/x-python",
   "name": "python",
   "nbconvert_exporter": "python",
   "pygments_lexer": "ipython3",
   "version": "3.11.5"
  }
 },
 "nbformat": 4,
 "nbformat_minor": 5
}
