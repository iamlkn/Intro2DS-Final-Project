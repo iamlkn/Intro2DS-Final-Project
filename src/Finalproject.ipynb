{
 "cells": [
  {
   "cell_type": "markdown",
   "id": "1bdea6cb-dc6e-4daf-865d-b086db9958a9",
   "metadata": {},
   "source": [
    "## 1. Import libraries"
   ]
  },
  {
   "cell_type": "code",
   "execution_count": 11,
   "id": "16adc0ac-6840-49c6-a4ed-9abe8912cdec",
   "metadata": {},
   "outputs": [
    {
     "name": "stdout",
     "output_type": "stream",
     "text": [
      "True\n"
     ]
    }
   ],
   "source": [
    "import numpy as np\n",
    "import seaborn as sns\n",
    "import matplotlib.pyplot as plt\n",
    "import numpy as np\n",
    "import scipy as sp\n",
    "import sklearn\n",
    "import requests\n",
    "from bs4 import BeautifulSoup\n",
    "import os\n",
    "os.environ['KMP_DUPLICATE_LIB_OK'] = 'True'"
   ]
  },
  {
   "cell_type": "markdown",
   "id": "3a7a55cb-42f3-48e7-8282-aa9eacebac58",
   "metadata": {},
   "source": [
    "## 2. Data collection"
   ]
  },
  {
   "cell_type": "code",
   "execution_count": 13,
   "id": "5842dd9c-760f-4664-ba10-cc8f3342cfd0",
   "metadata": {},
   "outputs": [
    {
     "ename": "SyntaxError",
     "evalue": "expected ':' (2858434999.py, line 71)",
     "output_type": "error",
     "traceback": [
      "\u001b[1;36m  Cell \u001b[1;32mIn[13], line 71\u001b[1;36m\u001b[0m\n\u001b[1;33m    if span_cnt[i] == 0\u001b[0m\n\u001b[1;37m                       ^\u001b[0m\n\u001b[1;31mSyntaxError\u001b[0m\u001b[1;31m:\u001b[0m expected ':'\n"
     ]
    }
   ],
   "source": [
    "# define url\n",
    "url = 'https://en.wikipedia.org/wiki/Passengers_of_the_Titanic'\n",
    "response = requests.get(url)\n",
    "\n",
    "# define the attributes for data\n",
    "Name = []\n",
    "Age = []\n",
    "Hometown = []\n",
    "Boarded = []\n",
    "Destination = []\n",
    "Lifeboat = []\n",
    "Class = []\n",
    "Survive = []\n",
    "\n",
    "# check if the url is ok or not\n",
    "if (response.status_code != 200):\n",
    "    print('Error')\n",
    "else:\n",
    "    url_data = response.text\n",
    "    soup = BeautifulSoup(url_data, 'html.parser')\n",
    "\n",
    "    # find tags data\n",
    "    passenger_tags = soup.find_all('table', {'class':'wikitable sortable'})\n",
    "    clss = 0\n",
    "    span_cnt = np.full(6, 0, dtype = int)\n",
    "    for passenger_tag in passenger_tags:\n",
    "        tr_tags = passenger_tag.find_all('tr')\n",
    "        \n",
    "        clss += 1\n",
    "        check = np.full(6, True, dtype = bool)\n",
    "        for tr_tag in tr_tags:\n",
    "            td_tags = tr_tag.find_all('td')\n",
    "            if not td_tags:\n",
    "                continue\n",
    "                \n",
    "            for i, td_tag in enumerate(td_tags):\n",
    "                if i >= 6:\n",
    "                    continue\n",
    "\n",
    "                row = 0\n",
    "                if 'rowspan' in td_tag:\n",
    "                    row = int(td_tag.get('rowspan'))\n",
    "                    span_cnt[i] += row-1\n",
    "                    check[i] = False\n",
    "                else:\n",
    "                    row = 1\n",
    "                Class.append(clss)\n",
    "                if check[i] == True:\n",
    "                    if i == 0:\n",
    "                        while row > 0:\n",
    "                            Name.append(td_tag.text) if td_tag else Name.append(np.nan)\n",
    "                            row -= 1\n",
    "                    elif i == 1:\n",
    "                        while row > 0:\n",
    "                            Age.append(td_tag.text) if td_tag else Age.append(np.nan)\n",
    "                            row -= 1\n",
    "                    elif i == 3:\n",
    "                        while row > 0:\n",
    "                            Hometown.append(td_tag.text) if td_tag else Hometown.append(np.nan)\n",
    "                            row -= 1\n",
    "                    elif i == 4:\n",
    "                        while row > 0:\n",
    "                            Boarded.append(td_tag.text) if td_tag else Boarded.append(np.nan)\n",
    "                            row -= 1\n",
    "                    elif i == 5:\n",
    "                        while row > 0:\n",
    "                            Lifeboat.append(td_tag.text) if td_tag else Lifeboat.append(np.nan)\n",
    "                            row -= 1\n",
    "                else:\n",
    "                    span_cnt[i] -= 1\n",
    "                    if span_cnt[i] == 0:\n",
    "                        check[i] = True\n",
    "            "
   ]
  },
  {
   "cell_type": "code",
   "execution_count": null,
   "id": "47f948e4-4470-44d8-9ebe-0ce9d4b4d86e",
   "metadata": {},
   "outputs": [],
   "source": []
  }
 ],
 "metadata": {
  "kernelspec": {
   "display_name": "Python 3 (ipykernel)",
   "language": "python",
   "name": "python3"
  },
  "language_info": {
   "codemirror_mode": {
    "name": "ipython",
    "version": 3
   },
   "file_extension": ".py",
   "mimetype": "text/x-python",
   "name": "python",
   "nbconvert_exporter": "python",
   "pygments_lexer": "ipython3",
   "version": "3.11.5"
  }
 },
 "nbformat": 4,
 "nbformat_minor": 5
}
